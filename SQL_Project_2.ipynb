{
  "metadata": {
    "kernelspec": {
      "language": "python",
      "display_name": "Python 3",
      "name": "python3"
    },
    "language_info": {
      "name": "python",
      "version": "3.10.14",
      "mimetype": "text/x-python",
      "codemirror_mode": {
        "name": "ipython",
        "version": 3
      },
      "pygments_lexer": "ipython3",
      "nbconvert_exporter": "python",
      "file_extension": ".py"
    },
    "kaggle": {
      "accelerator": "none",
      "dataSources": [
        {
          "sourceId": 285947,
          "sourceType": "datasetVersion",
          "datasetId": 11496
        }
      ],
      "dockerImageVersionId": 30786,
      "isInternetEnabled": false,
      "language": "python",
      "sourceType": "notebook",
      "isGpuEnabled": false
    },
    "colab": {
      "name": "SQL Project 2",
      "provenance": []
    }
  },
  "nbformat_minor": 0,
  "nbformat": 4,
  "cells": [
    {
      "source": [
        "# IMPORTANT: RUN THIS CELL IN ORDER TO IMPORT YOUR KAGGLE DATA SOURCES,\n",
        "# THEN FEEL FREE TO DELETE THIS CELL.\n",
        "# NOTE: THIS NOTEBOOK ENVIRONMENT DIFFERS FROM KAGGLE'S PYTHON\n",
        "# ENVIRONMENT SO THERE MAY BE MISSING LIBRARIES USED BY YOUR\n",
        "# NOTEBOOK.\n",
        "import os\n",
        "import shutil\n",
        "import kagglehub\n",
        "organizations_bigquery_bitcoin_blockchain_path = kagglehub.dataset_download('organizations/bigquery/bitcoin-blockchain')\n",
        "\n",
        "print('Data source import complete.')\n"
      ],
      "metadata": {
        "id": "gcilnj_TpJ-h"
      },
      "cell_type": "code",
      "outputs": [],
      "execution_count": null
    },
    {
      "cell_type": "code",
      "source": [
        "from google.cloud import bigquery\n",
        "from bq_helper import BigQueryHelper\n"
      ],
      "metadata": {
        "_uuid": "8f2839f25d086af736a60e9eeb907d3b93b6e0e5",
        "_cell_guid": "b1076dfc-b9ad-4769-8c92-a6c4dae69d19",
        "execution": {
          "iopub.status.busy": "2024-10-17T03:17:28.06214Z",
          "iopub.execute_input": "2024-10-17T03:17:28.062642Z",
          "iopub.status.idle": "2024-10-17T03:17:28.068118Z",
          "shell.execute_reply.started": "2024-10-17T03:17:28.062598Z",
          "shell.execute_reply": "2024-10-17T03:17:28.066836Z"
        },
        "trusted": true,
        "id": "Cm9no7EmpJ-m"
      },
      "execution_count": null,
      "outputs": []
    },
    {
      "cell_type": "code",
      "source": [
        "bq_assistant = BigQueryHelper(\"bigquery-public-data\", \"bitcoin_blockchain\")\n",
        "\n"
      ],
      "metadata": {
        "execution": {
          "iopub.status.busy": "2024-10-17T03:17:28.074618Z",
          "iopub.execute_input": "2024-10-17T03:17:28.075329Z",
          "iopub.status.idle": "2024-10-17T03:17:28.084324Z",
          "shell.execute_reply.started": "2024-10-17T03:17:28.075285Z",
          "shell.execute_reply": "2024-10-17T03:17:28.083071Z"
        },
        "trusted": true,
        "id": "XxpVyl2RpJ-n",
        "outputId": "8c82c569-c7b3-4560-da77-c20ba02edf22"
      },
      "execution_count": null,
      "outputs": [
        {
          "name": "stdout",
          "text": "Using Kaggle's public dataset BigQuery integration.\n",
          "output_type": "stream"
        }
      ]
    },
    {
      "cell_type": "markdown",
      "source": [
        "# Queries"
      ],
      "metadata": {
        "id": "5h1i3IEXpJ-o"
      }
    },
    {
      "cell_type": "code",
      "source": [
        "q1 = '''\n",
        "    SELECT AVG(size) AS Average_Size, AVG(stripped_size) AS Average_stripped_Size, AVG(weight) AS Average_weight FROM `bigquery-public-data.crypto_bitcoin.blocks`\n",
        "    '''\n",
        "client = bigquery.Client()\n",
        "query_job = client.query(q1)\n",
        "q1 = query_job.to_dataframe()\n",
        "q1"
      ],
      "metadata": {
        "execution": {
          "iopub.status.busy": "2024-10-17T03:17:28.095902Z",
          "iopub.execute_input": "2024-10-17T03:17:28.096383Z",
          "iopub.status.idle": "2024-10-17T03:17:29.749266Z",
          "shell.execute_reply.started": "2024-10-17T03:17:28.096338Z",
          "shell.execute_reply": "2024-10-17T03:17:29.748132Z"
        },
        "trusted": true,
        "id": "a-v0tCLmpJ-p",
        "outputId": "1f646b4b-f461-4e29-f047-8ae95637b882"
      },
      "execution_count": null,
      "outputs": [
        {
          "name": "stdout",
          "text": "Using Kaggle's public dataset BigQuery integration.\n",
          "output_type": "stream"
        },
        {
          "execution_count": 13,
          "output_type": "execute_result",
          "data": {
            "text/plain": "    Average_Size  Average_stripped_Size  Average_weight\n0  702616.365243          485246.410972    2.158356e+06",
            "text/html": "<div>\n<style scoped>\n    .dataframe tbody tr th:only-of-type {\n        vertical-align: middle;\n    }\n\n    .dataframe tbody tr th {\n        vertical-align: top;\n    }\n\n    .dataframe thead th {\n        text-align: right;\n    }\n</style>\n<table border=\"1\" class=\"dataframe\">\n  <thead>\n    <tr style=\"text-align: right;\">\n      <th></th>\n      <th>Average_Size</th>\n      <th>Average_stripped_Size</th>\n      <th>Average_weight</th>\n    </tr>\n  </thead>\n  <tbody>\n    <tr>\n      <th>0</th>\n      <td>702616.365243</td>\n      <td>485246.410972</td>\n      <td>2.158356e+06</td>\n    </tr>\n  </tbody>\n</table>\n</div>"
          },
          "metadata": {}
        }
      ]
    },
    {
      "cell_type": "code",
      "source": [
        "q2 = '''\n",
        "    SELECT type, COUNT(type) AS Frequency FROM `bigquery-public-data.crypto_bitcoin.outputs`GROUP BY type ORDER BY COUNT(type) DESC\n",
        "    '''\n",
        "query_job = client.query(q2)\n",
        "q2 = query_job.to_dataframe()\n",
        "q2"
      ],
      "metadata": {
        "execution": {
          "iopub.status.busy": "2024-10-17T03:17:29.751368Z",
          "iopub.execute_input": "2024-10-17T03:17:29.751753Z",
          "iopub.status.idle": "2024-10-17T03:17:36.627155Z",
          "shell.execute_reply.started": "2024-10-17T03:17:29.751714Z",
          "shell.execute_reply": "2024-10-17T03:17:36.625596Z"
        },
        "trusted": true,
        "id": "A5ACNXghpJ-q",
        "outputId": "02c7b57e-c761-43c7-961b-0c15c0282512"
      },
      "execution_count": null,
      "outputs": [
        {
          "execution_count": 14,
          "output_type": "execute_result",
          "data": {
            "text/plain": "                    type   Frequency\n0             pubkeyhash  1361687863\n1             scripthash   737410503\n2     witness_v0_keyhash   573891896\n3     witness_v1_taproot   218569467\n4            nonstandard   124956391\n5  witness_v0_scripthash    39893739\n6                 pubkey     2997650\n7               multisig      677099\n8        witness_unknown         125",
            "text/html": "<div>\n<style scoped>\n    .dataframe tbody tr th:only-of-type {\n        vertical-align: middle;\n    }\n\n    .dataframe tbody tr th {\n        vertical-align: top;\n    }\n\n    .dataframe thead th {\n        text-align: right;\n    }\n</style>\n<table border=\"1\" class=\"dataframe\">\n  <thead>\n    <tr style=\"text-align: right;\">\n      <th></th>\n      <th>type</th>\n      <th>Frequency</th>\n    </tr>\n  </thead>\n  <tbody>\n    <tr>\n      <th>0</th>\n      <td>pubkeyhash</td>\n      <td>1361687863</td>\n    </tr>\n    <tr>\n      <th>1</th>\n      <td>scripthash</td>\n      <td>737410503</td>\n    </tr>\n    <tr>\n      <th>2</th>\n      <td>witness_v0_keyhash</td>\n      <td>573891896</td>\n    </tr>\n    <tr>\n      <th>3</th>\n      <td>witness_v1_taproot</td>\n      <td>218569467</td>\n    </tr>\n    <tr>\n      <th>4</th>\n      <td>nonstandard</td>\n      <td>124956391</td>\n    </tr>\n    <tr>\n      <th>5</th>\n      <td>witness_v0_scripthash</td>\n      <td>39893739</td>\n    </tr>\n    <tr>\n      <th>6</th>\n      <td>pubkey</td>\n      <td>2997650</td>\n    </tr>\n    <tr>\n      <th>7</th>\n      <td>multisig</td>\n      <td>677099</td>\n    </tr>\n    <tr>\n      <th>8</th>\n      <td>witness_unknown</td>\n      <td>125</td>\n    </tr>\n  </tbody>\n</table>\n</div>"
          },
          "metadata": {}
        }
      ]
    },
    {
      "cell_type": "code",
      "source": [
        "trans_day = '''\n",
        "            SELECT\n",
        "              DATE(block_timestamp) AS date,\n",
        "              COUNT(*) AS no_transactions\n",
        "              FROM `bigquery-public-data.crypto_bitcoin.transactions`\n",
        "              WHERE DATE(block_timestamp) <= DATE_SUB(CURRENT_DATE(), INTERVAL 1 DAY) AND is_coinbase IS FALSE\n",
        "              GROUP BY date\n",
        "              ORDER BY date\n",
        "            '''\n",
        "query_job = client.query(trans_day)\n",
        "trans_day = query_job.to_dataframe()\n",
        "trans_day"
      ],
      "metadata": {
        "execution": {
          "iopub.status.busy": "2024-10-17T03:17:36.628786Z",
          "iopub.execute_input": "2024-10-17T03:17:36.629147Z",
          "iopub.status.idle": "2024-10-17T03:17:45.312046Z",
          "shell.execute_reply.started": "2024-10-17T03:17:36.629109Z",
          "shell.execute_reply": "2024-10-17T03:17:45.310931Z"
        },
        "trusted": true,
        "id": "v8GFvxOxpJ-r",
        "outputId": "9fd37819-335a-4b0d-f8be-e0f51037f93b"
      },
      "execution_count": null,
      "outputs": [
        {
          "execution_count": 15,
          "output_type": "execute_result",
          "data": {
            "text/plain": "            date  no_transactions\n0     2009-01-12                7\n1     2009-01-14                1\n2     2009-01-15                8\n3     2009-01-16                2\n4     2009-01-18                1\n...          ...              ...\n5501  2024-10-12           736178\n5502  2024-10-13           648601\n5503  2024-10-14           611544\n5504  2024-10-15           646735\n5505  2024-10-16           708201\n\n[5506 rows x 2 columns]",
            "text/html": "<div>\n<style scoped>\n    .dataframe tbody tr th:only-of-type {\n        vertical-align: middle;\n    }\n\n    .dataframe tbody tr th {\n        vertical-align: top;\n    }\n\n    .dataframe thead th {\n        text-align: right;\n    }\n</style>\n<table border=\"1\" class=\"dataframe\">\n  <thead>\n    <tr style=\"text-align: right;\">\n      <th></th>\n      <th>date</th>\n      <th>no_transactions</th>\n    </tr>\n  </thead>\n  <tbody>\n    <tr>\n      <th>0</th>\n      <td>2009-01-12</td>\n      <td>7</td>\n    </tr>\n    <tr>\n      <th>1</th>\n      <td>2009-01-14</td>\n      <td>1</td>\n    </tr>\n    <tr>\n      <th>2</th>\n      <td>2009-01-15</td>\n      <td>8</td>\n    </tr>\n    <tr>\n      <th>3</th>\n      <td>2009-01-16</td>\n      <td>2</td>\n    </tr>\n    <tr>\n      <th>4</th>\n      <td>2009-01-18</td>\n      <td>1</td>\n    </tr>\n    <tr>\n      <th>...</th>\n      <td>...</td>\n      <td>...</td>\n    </tr>\n    <tr>\n      <th>5501</th>\n      <td>2024-10-12</td>\n      <td>736178</td>\n    </tr>\n    <tr>\n      <th>5502</th>\n      <td>2024-10-13</td>\n      <td>648601</td>\n    </tr>\n    <tr>\n      <th>5503</th>\n      <td>2024-10-14</td>\n      <td>611544</td>\n    </tr>\n    <tr>\n      <th>5504</th>\n      <td>2024-10-15</td>\n      <td>646735</td>\n    </tr>\n    <tr>\n      <th>5505</th>\n      <td>2024-10-16</td>\n      <td>708201</td>\n    </tr>\n  </tbody>\n</table>\n<p>5506 rows × 2 columns</p>\n</div>"
          },
          "metadata": {}
        }
      ]
    },
    {
      "cell_type": "code",
      "source": [
        "q3 = \"\"\" WITH time AS\n",
        "            (\n",
        "                SELECT TIMESTAMP_MILLIS(timestamp) AS trans_time,\n",
        "                    transaction_id\n",
        "                FROM `bigquery-public-data.bitcoin_blockchain.transactions`\n",
        "            )\n",
        "            SELECT COUNT(transaction_id) AS transactions,\n",
        "                EXTRACT(MONTH FROM trans_time) AS month,\n",
        "                EXTRACT(YEAR FROM trans_time) AS year\n",
        "            FROM time\n",
        "            GROUP BY year, month\n",
        "            ORDER BY year, month\n",
        "        \"\"\"\n",
        "query_job = client.query(q3)\n",
        "q3 = query_job.to_dataframe()\n",
        "q3\n"
      ],
      "metadata": {
        "execution": {
          "iopub.status.busy": "2024-10-17T03:17:45.315417Z",
          "iopub.execute_input": "2024-10-17T03:17:45.315904Z",
          "iopub.status.idle": "2024-10-17T03:17:46.382597Z",
          "shell.execute_reply.started": "2024-10-17T03:17:45.315854Z",
          "shell.execute_reply": "2024-10-17T03:17:46.381295Z"
        },
        "trusted": true,
        "id": "nbAf_A_ApJ-r",
        "outputId": "6ec9344e-d52b-4bb9-c88a-d229382f398f"
      },
      "execution_count": null,
      "outputs": [
        {
          "execution_count": 16,
          "output_type": "execute_result",
          "data": {
            "text/plain": "     transactions  month  year\n0            2575      1  2009\n1            3417      2  2009\n2            3487      3  2009\n3            3459      4  2009\n4            3401      5  2009\n..            ...    ...   ...\n112       6138957      5  2018\n113       5752514      6  2018\n114       6393536      7  2018\n115       6417764      8  2018\n116       2087279      9  2018\n\n[117 rows x 3 columns]",
            "text/html": "<div>\n<style scoped>\n    .dataframe tbody tr th:only-of-type {\n        vertical-align: middle;\n    }\n\n    .dataframe tbody tr th {\n        vertical-align: top;\n    }\n\n    .dataframe thead th {\n        text-align: right;\n    }\n</style>\n<table border=\"1\" class=\"dataframe\">\n  <thead>\n    <tr style=\"text-align: right;\">\n      <th></th>\n      <th>transactions</th>\n      <th>month</th>\n      <th>year</th>\n    </tr>\n  </thead>\n  <tbody>\n    <tr>\n      <th>0</th>\n      <td>2575</td>\n      <td>1</td>\n      <td>2009</td>\n    </tr>\n    <tr>\n      <th>1</th>\n      <td>3417</td>\n      <td>2</td>\n      <td>2009</td>\n    </tr>\n    <tr>\n      <th>2</th>\n      <td>3487</td>\n      <td>3</td>\n      <td>2009</td>\n    </tr>\n    <tr>\n      <th>3</th>\n      <td>3459</td>\n      <td>4</td>\n      <td>2009</td>\n    </tr>\n    <tr>\n      <th>4</th>\n      <td>3401</td>\n      <td>5</td>\n      <td>2009</td>\n    </tr>\n    <tr>\n      <th>...</th>\n      <td>...</td>\n      <td>...</td>\n      <td>...</td>\n    </tr>\n    <tr>\n      <th>112</th>\n      <td>6138957</td>\n      <td>5</td>\n      <td>2018</td>\n    </tr>\n    <tr>\n      <th>113</th>\n      <td>5752514</td>\n      <td>6</td>\n      <td>2018</td>\n    </tr>\n    <tr>\n      <th>114</th>\n      <td>6393536</td>\n      <td>7</td>\n      <td>2018</td>\n    </tr>\n    <tr>\n      <th>115</th>\n      <td>6417764</td>\n      <td>8</td>\n      <td>2018</td>\n    </tr>\n    <tr>\n      <th>116</th>\n      <td>2087279</td>\n      <td>9</td>\n      <td>2018</td>\n    </tr>\n  </tbody>\n</table>\n<p>117 rows × 3 columns</p>\n</div>"
          },
          "metadata": {}
        }
      ]
    },
    {
      "cell_type": "code",
      "source": [
        "q4='''\n",
        "    SELECT\n",
        "        DATE(block_timestamp) AS date,\n",
        "        AVG(input_count) AS avg_input,\n",
        "        AVG(output_count) AS avg_output,\n",
        "        MAX(input_count) AS max_input,\n",
        "        MAX(output_count) AS max_output,\n",
        "        SAFE_DIVIDE(SUM(output_count), SUM(input_count)) AS ratio\n",
        "FROM `bigquery-public-data.crypto_bitcoin.transactions`\n",
        "WHERE input_count != 0  AND input_value != 0 AND output_value != 0\n",
        "GROUP BY date\n",
        "ORDER BY date\n",
        "    '''\n",
        "query_job = client.query(q4)\n",
        "q4 = query_job.to_dataframe()\n",
        "q4"
      ],
      "metadata": {
        "execution": {
          "iopub.status.busy": "2024-10-17T03:17:46.384052Z",
          "iopub.execute_input": "2024-10-17T03:17:46.384466Z",
          "iopub.status.idle": "2024-10-17T03:17:53.373677Z",
          "shell.execute_reply.started": "2024-10-17T03:17:46.384424Z",
          "shell.execute_reply": "2024-10-17T03:17:53.372112Z"
        },
        "trusted": true,
        "id": "inYKSZpWpJ-s",
        "outputId": "c496792e-02cd-4687-c5d1-04af6b0bdbcf"
      },
      "execution_count": null,
      "outputs": [
        {
          "execution_count": 17,
          "output_type": "execute_result",
          "data": {
            "text/plain": "            date  avg_input  avg_output  max_input  max_output     ratio\n0     2009-01-12   1.000000    1.714286          1           2  1.714286\n1     2009-01-14   3.000000    1.000000          3           1  0.333333\n2     2009-01-15   1.875000    1.750000          5           2  0.933333\n3     2009-01-16   2.000000    1.000000          2           1  0.500000\n4     2009-01-18   3.000000    1.000000          3           1  0.333333\n...          ...        ...         ...        ...         ...       ...\n5502  2024-10-13   1.656824    2.462086       1375        2009  1.486028\n5503  2024-10-14   1.816195    2.470300       1469        1995  1.360151\n5504  2024-10-15   1.925067    2.461392       1441        1978  1.278601\n5505  2024-10-16   1.533396    2.435772       1197        2021  1.588482\n5506  2024-10-17   1.348536    2.489278        735         588  1.845911\n\n[5507 rows x 6 columns]",
            "text/html": "<div>\n<style scoped>\n    .dataframe tbody tr th:only-of-type {\n        vertical-align: middle;\n    }\n\n    .dataframe tbody tr th {\n        vertical-align: top;\n    }\n\n    .dataframe thead th {\n        text-align: right;\n    }\n</style>\n<table border=\"1\" class=\"dataframe\">\n  <thead>\n    <tr style=\"text-align: right;\">\n      <th></th>\n      <th>date</th>\n      <th>avg_input</th>\n      <th>avg_output</th>\n      <th>max_input</th>\n      <th>max_output</th>\n      <th>ratio</th>\n    </tr>\n  </thead>\n  <tbody>\n    <tr>\n      <th>0</th>\n      <td>2009-01-12</td>\n      <td>1.000000</td>\n      <td>1.714286</td>\n      <td>1</td>\n      <td>2</td>\n      <td>1.714286</td>\n    </tr>\n    <tr>\n      <th>1</th>\n      <td>2009-01-14</td>\n      <td>3.000000</td>\n      <td>1.000000</td>\n      <td>3</td>\n      <td>1</td>\n      <td>0.333333</td>\n    </tr>\n    <tr>\n      <th>2</th>\n      <td>2009-01-15</td>\n      <td>1.875000</td>\n      <td>1.750000</td>\n      <td>5</td>\n      <td>2</td>\n      <td>0.933333</td>\n    </tr>\n    <tr>\n      <th>3</th>\n      <td>2009-01-16</td>\n      <td>2.000000</td>\n      <td>1.000000</td>\n      <td>2</td>\n      <td>1</td>\n      <td>0.500000</td>\n    </tr>\n    <tr>\n      <th>4</th>\n      <td>2009-01-18</td>\n      <td>3.000000</td>\n      <td>1.000000</td>\n      <td>3</td>\n      <td>1</td>\n      <td>0.333333</td>\n    </tr>\n    <tr>\n      <th>...</th>\n      <td>...</td>\n      <td>...</td>\n      <td>...</td>\n      <td>...</td>\n      <td>...</td>\n      <td>...</td>\n    </tr>\n    <tr>\n      <th>5502</th>\n      <td>2024-10-13</td>\n      <td>1.656824</td>\n      <td>2.462086</td>\n      <td>1375</td>\n      <td>2009</td>\n      <td>1.486028</td>\n    </tr>\n    <tr>\n      <th>5503</th>\n      <td>2024-10-14</td>\n      <td>1.816195</td>\n      <td>2.470300</td>\n      <td>1469</td>\n      <td>1995</td>\n      <td>1.360151</td>\n    </tr>\n    <tr>\n      <th>5504</th>\n      <td>2024-10-15</td>\n      <td>1.925067</td>\n      <td>2.461392</td>\n      <td>1441</td>\n      <td>1978</td>\n      <td>1.278601</td>\n    </tr>\n    <tr>\n      <th>5505</th>\n      <td>2024-10-16</td>\n      <td>1.533396</td>\n      <td>2.435772</td>\n      <td>1197</td>\n      <td>2021</td>\n      <td>1.588482</td>\n    </tr>\n    <tr>\n      <th>5506</th>\n      <td>2024-10-17</td>\n      <td>1.348536</td>\n      <td>2.489278</td>\n      <td>735</td>\n      <td>588</td>\n      <td>1.845911</td>\n    </tr>\n  </tbody>\n</table>\n<p>5507 rows × 6 columns</p>\n</div>"
          },
          "metadata": {}
        }
      ]
    },
    {
      "cell_type": "code",
      "source": [
        "q5 = '''\n",
        "    SELECT\n",
        "    DATE(block_timestamp) as transaction_date,\n",
        "    SUM(output.value) as total_bitcoins_sent\n",
        "FROM\n",
        "    `bigquery-public-data.crypto_bitcoin.transactions`\n",
        "JOIN\n",
        "    UNNEST(outputs) AS output\n",
        "GROUP BY\n",
        "    transaction_date\n",
        "ORDER BY\n",
        "    transaction_date DESC\n",
        "LIMIT\n",
        "    30;\n",
        "    '''\n",
        "query_job = client.query(q5)\n",
        "q5 = query_job.to_dataframe()\n",
        "q5"
      ],
      "metadata": {
        "execution": {
          "iopub.status.busy": "2024-10-17T04:02:05.675146Z",
          "iopub.execute_input": "2024-10-17T04:02:05.675608Z",
          "iopub.status.idle": "2024-10-17T04:02:16.816874Z",
          "shell.execute_reply.started": "2024-10-17T04:02:05.675567Z",
          "shell.execute_reply": "2024-10-17T04:02:16.815589Z"
        },
        "trusted": true,
        "id": "skU0yMYOpJ-t",
        "outputId": "5b6d103c-d277-4b1c-dd90-8b89b8cd89d3"
      },
      "execution_count": null,
      "outputs": [
        {
          "execution_count": 22,
          "output_type": "execute_result",
          "data": {
            "text/plain": "   transaction_date        total_bitcoins_sent\n0        2024-10-17    9788085682679.000000000\n1        2024-10-16   70187496734992.000000000\n2        2024-10-15   83634190135389.000000000\n3        2024-10-14   60596304137674.000000000\n4        2024-10-13   36231035458436.000000000\n5        2024-10-12   38699374413750.000000000\n6        2024-10-11   63970605370957.000000000\n7        2024-10-10   64215151962659.000000000\n8        2024-10-09   81227019035577.000000000\n9        2024-10-08  106866800704866.000000000\n10       2024-10-07   99922125145478.000000000\n11       2024-10-06   56292732642550.000000000\n12       2024-10-05   42154666184826.000000000\n13       2024-10-04   80308110719504.000000000\n14       2024-10-03   88592416928226.000000000\n15       2024-10-02   79375909777036.000000000\n16       2024-10-01   90143908714051.000000000\n17       2024-09-30   98621896240798.000000000\n18       2024-09-29   48929563321562.000000000\n19       2024-09-28   46244736368104.000000000\n20       2024-09-27   80762905278754.000000000\n21       2024-09-26   84150490197448.000000000\n22       2024-09-25   81686425049273.000000000\n23       2024-09-24   83593422508771.000000000\n24       2024-09-23   75221435097616.000000000\n25       2024-09-22   40955678358140.000000000\n26       2024-09-21   41589639732938.000000000\n27       2024-09-20   98001047985418.000000000\n28       2024-09-19   87861791817664.000000000\n29       2024-09-18   82406047729407.000000000",
            "text/html": "<div>\n<style scoped>\n    .dataframe tbody tr th:only-of-type {\n        vertical-align: middle;\n    }\n\n    .dataframe tbody tr th {\n        vertical-align: top;\n    }\n\n    .dataframe thead th {\n        text-align: right;\n    }\n</style>\n<table border=\"1\" class=\"dataframe\">\n  <thead>\n    <tr style=\"text-align: right;\">\n      <th></th>\n      <th>transaction_date</th>\n      <th>total_bitcoins_sent</th>\n    </tr>\n  </thead>\n  <tbody>\n    <tr>\n      <th>0</th>\n      <td>2024-10-17</td>\n      <td>9788085682679.000000000</td>\n    </tr>\n    <tr>\n      <th>1</th>\n      <td>2024-10-16</td>\n      <td>70187496734992.000000000</td>\n    </tr>\n    <tr>\n      <th>2</th>\n      <td>2024-10-15</td>\n      <td>83634190135389.000000000</td>\n    </tr>\n    <tr>\n      <th>3</th>\n      <td>2024-10-14</td>\n      <td>60596304137674.000000000</td>\n    </tr>\n    <tr>\n      <th>4</th>\n      <td>2024-10-13</td>\n      <td>36231035458436.000000000</td>\n    </tr>\n    <tr>\n      <th>5</th>\n      <td>2024-10-12</td>\n      <td>38699374413750.000000000</td>\n    </tr>\n    <tr>\n      <th>6</th>\n      <td>2024-10-11</td>\n      <td>63970605370957.000000000</td>\n    </tr>\n    <tr>\n      <th>7</th>\n      <td>2024-10-10</td>\n      <td>64215151962659.000000000</td>\n    </tr>\n    <tr>\n      <th>8</th>\n      <td>2024-10-09</td>\n      <td>81227019035577.000000000</td>\n    </tr>\n    <tr>\n      <th>9</th>\n      <td>2024-10-08</td>\n      <td>106866800704866.000000000</td>\n    </tr>\n    <tr>\n      <th>10</th>\n      <td>2024-10-07</td>\n      <td>99922125145478.000000000</td>\n    </tr>\n    <tr>\n      <th>11</th>\n      <td>2024-10-06</td>\n      <td>56292732642550.000000000</td>\n    </tr>\n    <tr>\n      <th>12</th>\n      <td>2024-10-05</td>\n      <td>42154666184826.000000000</td>\n    </tr>\n    <tr>\n      <th>13</th>\n      <td>2024-10-04</td>\n      <td>80308110719504.000000000</td>\n    </tr>\n    <tr>\n      <th>14</th>\n      <td>2024-10-03</td>\n      <td>88592416928226.000000000</td>\n    </tr>\n    <tr>\n      <th>15</th>\n      <td>2024-10-02</td>\n      <td>79375909777036.000000000</td>\n    </tr>\n    <tr>\n      <th>16</th>\n      <td>2024-10-01</td>\n      <td>90143908714051.000000000</td>\n    </tr>\n    <tr>\n      <th>17</th>\n      <td>2024-09-30</td>\n      <td>98621896240798.000000000</td>\n    </tr>\n    <tr>\n      <th>18</th>\n      <td>2024-09-29</td>\n      <td>48929563321562.000000000</td>\n    </tr>\n    <tr>\n      <th>19</th>\n      <td>2024-09-28</td>\n      <td>46244736368104.000000000</td>\n    </tr>\n    <tr>\n      <th>20</th>\n      <td>2024-09-27</td>\n      <td>80762905278754.000000000</td>\n    </tr>\n    <tr>\n      <th>21</th>\n      <td>2024-09-26</td>\n      <td>84150490197448.000000000</td>\n    </tr>\n    <tr>\n      <th>22</th>\n      <td>2024-09-25</td>\n      <td>81686425049273.000000000</td>\n    </tr>\n    <tr>\n      <th>23</th>\n      <td>2024-09-24</td>\n      <td>83593422508771.000000000</td>\n    </tr>\n    <tr>\n      <th>24</th>\n      <td>2024-09-23</td>\n      <td>75221435097616.000000000</td>\n    </tr>\n    <tr>\n      <th>25</th>\n      <td>2024-09-22</td>\n      <td>40955678358140.000000000</td>\n    </tr>\n    <tr>\n      <th>26</th>\n      <td>2024-09-21</td>\n      <td>41589639732938.000000000</td>\n    </tr>\n    <tr>\n      <th>27</th>\n      <td>2024-09-20</td>\n      <td>98001047985418.000000000</td>\n    </tr>\n    <tr>\n      <th>28</th>\n      <td>2024-09-19</td>\n      <td>87861791817664.000000000</td>\n    </tr>\n    <tr>\n      <th>29</th>\n      <td>2024-09-18</td>\n      <td>82406047729407.000000000</td>\n    </tr>\n  </tbody>\n</table>\n</div>"
          },
          "metadata": {}
        }
      ]
    }
  ]
}